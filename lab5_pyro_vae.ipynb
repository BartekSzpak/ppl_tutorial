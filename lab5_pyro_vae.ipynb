{
 "cells": [
  {
   "cell_type": "code",
   "execution_count": 3,
   "metadata": {},
   "outputs": [],
   "source": [
    "# code directly taken from http://pyro.ai/examples/vae.html"
   ]
  },
  {
   "cell_type": "markdown",
   "metadata": {},
   "source": [
    "## Step 0. Import required libraries and MNIST"
   ]
  },
  {
   "cell_type": "code",
   "execution_count": 1,
   "metadata": {},
   "outputs": [],
   "source": [
    "import os\n",
    "\n",
    "import numpy as np\n",
    "import torch\n",
    "import torchvision.datasets as dset\n",
    "import torch.nn as nn\n",
    "import torchvision.transforms as transforms\n",
    "\n",
    "import pyro\n",
    "import pyro.distributions as dist\n",
    "import pyro.contrib.examples.util  \n",
    "from pyro.infer import SVI, Trace_ELBO\n",
    "from pyro.optim import Adam"
   ]
  },
  {
   "cell_type": "code",
   "execution_count": 2,
   "metadata": {},
   "outputs": [],
   "source": [
    "# for loading and batching MNIST dataset\n",
    "def setup_data_loaders(batch_size=128, use_cuda=False):\n",
    "    root = './data'\n",
    "    download = True\n",
    "    trans = transforms.ToTensor()\n",
    "    train_set = dset.MNIST(root=root, train=True, transform=trans,\n",
    "                           download=download)\n",
    "    test_set = dset.MNIST(root=root, train=False, transform=trans)\n",
    "\n",
    "    kwargs = {'num_workers': 1, 'pin_memory': use_cuda}\n",
    "    train_loader = torch.utils.data.DataLoader(dataset=train_set,\n",
    "        batch_size=batch_size, shuffle=True, **kwargs)\n",
    "    test_loader = torch.utils.data.DataLoader(dataset=test_set,\n",
    "        batch_size=batch_size, shuffle=False, **kwargs)\n",
    "    return train_loader, test_loader"
   ]
  },
  {
   "cell_type": "markdown",
   "metadata": {},
   "source": [
    "## 1. The Decoder"
   ]
  },
  {
   "cell_type": "code",
   "execution_count": 4,
   "metadata": {},
   "outputs": [],
   "source": [
    "class Decoder(nn.Module):\n",
    "    def __init__(self, z_dim, hidden_dim):\n",
    "        super().__init__()\n",
    "        # setup the two linear transformations used\n",
    "        self.fc1 = nn.Linear(z_dim, hidden_dim)\n",
    "        self.fc21 = nn.Linear(hidden_dim, 784)\n",
    "        # setup the non-linearities\n",
    "        self.softplus = nn.Softplus()\n",
    "        self.sigmoid = nn.Sigmoid()\n",
    "\n",
    "    def forward(self, z):\n",
    "        # define the forward computation on the latent z\n",
    "        \n",
    "        # first compute the hidden units\n",
    "        hidden = self.softplus(self.fc1(z))\n",
    "        # return the parameter for the output Bernoulli (each is of size batch_size x 784)\n",
    "        loc_img = self.sigmoid(self.fc21(hidden))\n",
    "        return loc_img"
   ]
  },
  {
   "cell_type": "markdown",
   "metadata": {},
   "source": [
    "### 1.1 What's the decoder doing?"
   ]
  },
  {
   "cell_type": "markdown",
   "metadata": {},
   "source": [
    "Given a latent code z, the forward call of Decoder returns the parameters for a Bernoulli distribution in image space (generate p(x|z))"
   ]
  },
  {
   "cell_type": "markdown",
   "metadata": {},
   "source": [
    "## 2 The Model"
   ]
  },
  {
   "cell_type": "code",
   "execution_count": 6,
   "metadata": {},
   "outputs": [],
   "source": [
    "# define the model p(x|z)p(z)\n",
    "def model(self, x):\n",
    "    \n",
    "    # register PyTorch module `decoder` with Pyro\n",
    "    pyro.module(\"decoder\", self.decoder)\n",
    "    \n",
    "    with pyro.plate(\"data\", x.shape[0]):\n",
    "        \n",
    "        # setup hyperparameters for prior p(z)\n",
    "        z_loc = x.new_zeros(torch.Size((x.shape[0], self.z_dim)))\n",
    "        z_scale = x.new_ones(torch.Size((x.shape[0], self.z_dim)))\n",
    "        \n",
    "        # sample from prior (value will be sampled by guide when computing the ELBO)\n",
    "        z = pyro.sample(\"latent\", dist.Normal(z_loc, z_scale).to_event(1))\n",
    "        \n",
    "        # decode the latent code z\n",
    "        loc_img = self.decoder.forward(z)\n",
    "        \n",
    "        # score against actual images\n",
    "        pyro.sample(\"obs\", dist.Bernoulli(loc_img).to_event(1), obs=x.reshape(-1, 784))"
   ]
  },
  {
   "attachments": {
    "image.png": {
     "image/png": "[encoded data removed]"
    }
   },
   "cell_type": "markdown",
   "metadata": {},
   "source": [
    "![image.png](attachment:image.png)"
   ]
  },
  {
   "cell_type": "markdown",
   "metadata": {},
   "source": [
    "### 2.1 What's the model doing?"
   ]
  },
  {
   "cell_type": "markdown",
   "metadata": {},
   "source": [
    "- Samples mean and variance of the latent z from the prior\n",
    "- Generates p(x|z) from the decoder using the sampled z distribution\n",
    "- Samples x~p(x|z) and then uses actual observations from data to adjust the decoder values during training"
   ]
  },
  {
   "cell_type": "markdown",
   "metadata": {},
   "source": [
    "# 3. The Encoder"
   ]
  },
  {
   "cell_type": "code",
   "execution_count": 5,
   "metadata": {},
   "outputs": [],
   "source": [
    "class Encoder(nn.Module):\n",
    "    def __init__(self, z_dim, hidden_dim):\n",
    "        super().__init__()\n",
    "        # setup the three linear transformations used\n",
    "        self.fc1 = nn.Linear(784, hidden_dim)\n",
    "        self.fc21 = nn.Linear(hidden_dim, z_dim)\n",
    "        self.fc22 = nn.Linear(hidden_dim, z_dim)\n",
    "        # setup the non-linearities\n",
    "        self.softplus = nn.Softplus()\n",
    "\n",
    "    def forward(self, x):\n",
    "        # define the forward computation on the image x\n",
    "        # first shape the mini-batch to have pixels in the rightmost dimension\n",
    "        x = x.reshape(-1, 784)\n",
    "        # then compute the hidden units\n",
    "        hidden = self.softplus(self.fc1(x))\n",
    "        # then return a mean vector and a (positive) square root covariance\n",
    "        # each of size batch_size x z_dim\n",
    "        z_loc = self.fc21(hidden)\n",
    "        z_scale = torch.exp(self.fc22(hidden))\n",
    "        return z_loc, z_scale"
   ]
  },
  {
   "cell_type": "markdown",
   "metadata": {},
   "source": [
    "### 3.1 What's the encoder (also called inference network/ inverse model) doing?"
   ]
  },
  {
   "cell_type": "markdown",
   "metadata": {},
   "source": [
    "Given an input image x the forward call of Encoder returns a mean and covariance that together parameterize a (diagonal) Gaussian distribution in latent space."
   ]
  },
  {
   "attachments": {
    "image.png": {
     "image/png": "[encoded data removed]"
    }
   },
   "cell_type": "markdown",
   "metadata": {},
   "source": [
    "![image.png](attachment:image.png)"
   ]
  },
  {
   "cell_type": "markdown",
   "metadata": {},
   "source": [
    "The encoder serves as a set of global parameters used for inference of all data points: **Amortises** the cost of inference over all data"
   ]
  },
  {
   "cell_type": "markdown",
   "metadata": {},
   "source": [
    "## 4. The Guide (i.e. variational distribution)"
   ]
  },
  {
   "cell_type": "code",
   "execution_count": 8,
   "metadata": {},
   "outputs": [],
   "source": [
    "# define the guide (i.e. variational distribution) q(z|x)\n",
    "def guide(self, x):\n",
    "    # register PyTorch module `encoder` with Pyro\n",
    "    pyro.module(\"encoder\", self.encoder)\n",
    "    \n",
    "    with pyro.plate(\"data\", x.shape[0]):\n",
    "        # use the encoder to get the parameters used to define q(z|x)\n",
    "        z_loc, z_scale = self.encoder.forward(x)\n",
    "        # sample the latent code z\n",
    "        pyro.sample(\"latent\", dist.Normal(z_loc, z_scale).to_event(1))"
   ]
  },
  {
   "cell_type": "markdown",
   "metadata": {},
   "source": [
    "### 4.1 What's the guide doing?"
   ]
  },
  {
   "cell_type": "markdown",
   "metadata": {},
   "source": [
    "- Take the encoder model and register with Pyro\n",
    "- Take a mini-batch of images and pass through the encoder: obtain the 'variational' parameters of the latent distribution (in this case the mean and variance of a Gaussian)\n",
    "- Using the parameters output by the encoder sample a value of the latent variable for each image in the minibatch (using same variable \"latent\" as in the model function)\n",
    "- Also ```pyro.plate()``` designates independence of the mini-batch dimension\n",
    "- ```to_event(1)``` forces dependence on z_dims"
   ]
  },
  {
   "cell_type": "markdown",
   "metadata": {},
   "source": [
    "## 5. The VAE (put together)"
   ]
  },
  {
   "cell_type": "code",
   "execution_count": 9,
   "metadata": {},
   "outputs": [],
   "source": [
    "class VAE(nn.Module):\n",
    "    \n",
    "    # by default our latent space is 50-dimensional and we use 400 hidden units\n",
    "    def __init__(self, z_dim=50, hidden_dim=400, use_cuda=False):\n",
    "        super().__init__()\n",
    "        # create the encoder and decoder networks\n",
    "        self.encoder = Encoder(z_dim, hidden_dim)\n",
    "        self.decoder = Decoder(z_dim, hidden_dim)\n",
    "\n",
    "        if use_cuda:\n",
    "            # calling cuda() here will put all the parameters of\n",
    "            # the encoder and decoder networks into gpu memory\n",
    "            self.cuda()\n",
    "        self.use_cuda = use_cuda\n",
    "        self.z_dim = z_dim\n",
    "\n",
    "    # define the model p(x|z)p(z)\n",
    "    def model(self, x):\n",
    "        # register PyTorch module `decoder` with Pyro\n",
    "        pyro.module(\"decoder\", self.decoder)\n",
    "        with pyro.plate(\"data\", x.shape[0]):\n",
    "            # setup hyperparameters for prior p(z)\n",
    "            z_loc = x.new_zeros(torch.Size((x.shape[0], self.z_dim)))\n",
    "            z_scale = x.new_ones(torch.Size((x.shape[0], self.z_dim)))\n",
    "            # sample from prior (value will be sampled by guide when computing the ELBO)\n",
    "            z = pyro.sample(\"latent\", dist.Normal(z_loc, z_scale).to_event(1))\n",
    "            # decode the latent code z\n",
    "            loc_img = self.decoder.forward(z)\n",
    "            # score against actual images\n",
    "            pyro.sample(\"obs\", dist.Bernoulli(loc_img).to_event(1), obs=x.reshape(-1, 784))\n",
    "\n",
    "    # define the guide (i.e. variational distribution) q(z|x)\n",
    "    def guide(self, x):\n",
    "        # register PyTorch module `encoder` with Pyro\n",
    "        pyro.module(\"encoder\", self.encoder)\n",
    "        with pyro.plate(\"data\", x.shape[0]):\n",
    "            # use the encoder to get the parameters used to define q(z|x)\n",
    "            z_loc, z_scale = self.encoder.forward(x)\n",
    "            # sample the latent code z\n",
    "            pyro.sample(\"latent\", dist.Normal(z_loc, z_scale).to_event(1))\n",
    "\n",
    "    # define a helper function for reconstructing images\n",
    "    def reconstruct_img(self, x):\n",
    "        # encode image x\n",
    "        z_loc, z_scale = self.encoder(x)\n",
    "        # sample in latent space\n",
    "        z = dist.Normal(z_loc, z_scale).sample()\n",
    "        # decode the image (note we don't sample in image space)\n",
    "        loc_img = self.decoder(z)\n",
    "        return loc_img"
   ]
  },
  {
   "cell_type": "markdown",
   "metadata": {},
   "source": [
    "### 5.1 Training"
   ]
  },
  {
   "cell_type": "code",
   "execution_count": 10,
   "metadata": {},
   "outputs": [],
   "source": [
    "def train(svi, train_loader, use_cuda=False):\n",
    "    # initialize loss accumulator\n",
    "    epoch_loss = 0.\n",
    "    \n",
    "    # do a training epoch over each mini-batch x returned by the data loader\n",
    "    for x, _ in train_loader:\n",
    "        # if on GPU put mini-batch into CUDA memory\n",
    "        if use_cuda:\n",
    "            x = x.cuda()\n",
    "        # do ELBO gradient and accumulate loss\n",
    "        epoch_loss += svi.step(x)\n",
    "\n",
    "    # return epoch loss\n",
    "    normalizer_train = len(train_loader.dataset)\n",
    "    total_epoch_loss_train = epoch_loss / normalizer_train\n",
    "    return total_epoch_loss_train"
   ]
  },
  {
   "cell_type": "code",
   "execution_count": 11,
   "metadata": {},
   "outputs": [],
   "source": [
    "def evaluate(svi, test_loader, use_cuda=False):\n",
    "    # initialize loss accumulator\n",
    "    test_loss = 0.\n",
    "    # compute the loss over the entire test set\n",
    "    for x, _ in test_loader:\n",
    "        # if on GPU put mini-batch into CUDA memory\n",
    "        if use_cuda:\n",
    "            x = x.cuda()\n",
    "        # compute ELBO estimate and accumulate loss\n",
    "        test_loss += svi.evaluate_loss(x)\n",
    "    \n",
    "    normalizer_test = len(test_loader.dataset)\n",
    "    total_epoch_loss_test = test_loss / normalizer_test\n",
    "    return total_epoch_loss_test"
   ]
  },
  {
   "cell_type": "markdown",
   "metadata": {},
   "source": [
    "The only change  is ```evaluate_loss()``` instead of ```step``` which computes an estimate of the ELBO but doesn't take any gradient steps"
   ]
  },
  {
   "cell_type": "code",
   "execution_count": 13,
   "metadata": {},
   "outputs": [
    {
     "name": "stdout",
     "output_type": "stream",
     "text": [
      "Downloading https://d2hg8soec8ck9v.cloudfront.net/datasets/mnist/train-images-idx3-ubyte.gz to ./data/MNIST/raw/train-images-idx3-ubyte.gz\n"
     ]
    },
    {
     "data": {
      "application/vnd.jupyter.widget-view+json": {
       "model_id": "c94e62ea271c4341858ee4dfddc776e2",
       "version_major": 2,
       "version_minor": 0
      },
      "text/plain": [
       "HBox(children=(IntProgress(value=1, bar_style='info', max=1), HTML(value='')))"
      ]
     },
     "metadata": {},
     "output_type": "display_data"
    },
    {
     "name": "stdout",
     "output_type": "stream",
     "text": [
      "Extracting ./data/MNIST/raw/train-images-idx3-ubyte.gz to ./data/MNIST/raw\n",
      "Downloading https://d2hg8soec8ck9v.cloudfront.net/datasets/mnist/train-labels-idx1-ubyte.gz to ./data/MNIST/raw/train-labels-idx1-ubyte.gz\n"
     ]
    },
    {
     "data": {
      "application/vnd.jupyter.widget-view+json": {
       "model_id": "ae8447d7745b4492a8d5f79dc2bbd484",
       "version_major": 2,
       "version_minor": 0
      },
      "text/plain": [
       "HBox(children=(IntProgress(value=1, bar_style='info', max=1), HTML(value='')))"
      ]
     },
     "metadata": {},
     "output_type": "display_data"
    },
    {
     "name": "stdout",
     "output_type": "stream",
     "text": [
      "Extracting ./data/MNIST/raw/train-labels-idx1-ubyte.gz to ./data/MNIST/raw\n",
      "Downloading https://d2hg8soec8ck9v.cloudfront.net/datasets/mnist/t10k-images-idx3-ubyte.gz to ./data/MNIST/raw/t10k-images-idx3-ubyte.gz\n",
      "\n"
     ]
    },
    {
     "data": {
      "application/vnd.jupyter.widget-view+json": {
       "model_id": "36d180c876604fc89a3fb3847c4ef9ab",
       "version_major": 2,
       "version_minor": 0
      },
      "text/plain": [
       "HBox(children=(IntProgress(value=1, bar_style='info', max=1), HTML(value='')))"
      ]
     },
     "metadata": {},
     "output_type": "display_data"
    },
    {
     "name": "stdout",
     "output_type": "stream",
     "text": [
      "Extracting ./data/MNIST/raw/t10k-images-idx3-ubyte.gz to ./data/MNIST/raw\n",
      "Downloading https://d2hg8soec8ck9v.cloudfront.net/datasets/mnist/t10k-labels-idx1-ubyte.gz to ./data/MNIST/raw/t10k-labels-idx1-ubyte.gz\n"
     ]
    },
    {
     "data": {
      "application/vnd.jupyter.widget-view+json": {
       "model_id": "a9f7b9a8b2d54b939621e323e5a222ff",
       "version_major": 2,
       "version_minor": 0
      },
      "text/plain": [
       "HBox(children=(IntProgress(value=1, bar_style='info', max=1), HTML(value='')))"
      ]
     },
     "metadata": {},
     "output_type": "display_data"
    },
    {
     "name": "stdout",
     "output_type": "stream",
     "text": [
      "Extracting ./data/MNIST/raw/t10k-labels-idx1-ubyte.gz to ./data/MNIST/raw\n",
      "Processing...\n"
     ]
    },
    {
     "name": "stderr",
     "output_type": "stream",
     "text": [
      "/pytorch/torch/csrc/utils/tensor_numpy.cpp:141: UserWarning: The given NumPy array is not writeable, and PyTorch does not support non-writeable tensors. This means you can write to the underlying (supposedly non-writeable) NumPy array using the tensor. You may want to copy the array to protect its data or make it writeable before converting it to a tensor. This type of warning will be suppressed for the rest of this program.\n"
     ]
    },
    {
     "name": "stdout",
     "output_type": "stream",
     "text": [
      "Done!\n",
      "\n",
      "[epoch 000]  average training loss: 192.2432\n",
      "[epoch 000] average test loss: 157.8972\n",
      "[epoch 001]  average training loss: 147.1042\n",
      "[epoch 002]  average training loss: 133.2055\n",
      "[epoch 003]  average training loss: 124.9150\n",
      "[epoch 004]  average training loss: 119.4125\n",
      "[epoch 005]  average training loss: 115.8587\n",
      "[epoch 005] average test loss: 113.6452\n",
      "[epoch 006]  average training loss: 113.4358\n",
      "[epoch 007]  average training loss: 111.8115\n",
      "[epoch 008]  average training loss: 110.5021\n",
      "[epoch 009]  average training loss: 109.5573\n",
      "[epoch 010]  average training loss: 108.7663\n",
      "[epoch 010] average test loss: 108.0454\n",
      "[epoch 011]  average training loss: 108.1900\n",
      "[epoch 012]  average training loss: 107.6816\n",
      "[epoch 013]  average training loss: 107.1533\n",
      "[epoch 014]  average training loss: 106.7708\n",
      "[epoch 015]  average training loss: 106.4337\n",
      "[epoch 015] average test loss: 105.6781\n",
      "[epoch 016]  average training loss: 106.0955\n",
      "[epoch 017]  average training loss: 105.8546\n",
      "[epoch 018]  average training loss: 105.5863\n",
      "[epoch 019]  average training loss: 105.4068\n",
      "[epoch 020]  average training loss: 105.1786\n",
      "[epoch 020] average test loss: 104.6800\n",
      "[epoch 021]  average training loss: 105.0366\n",
      "[epoch 022]  average training loss: 104.8406\n",
      "[epoch 023]  average training loss: 104.6624\n",
      "[epoch 024]  average training loss: 104.5388\n",
      "[epoch 025]  average training loss: 104.4315\n",
      "[epoch 025] average test loss: 104.0925\n",
      "[epoch 026]  average training loss: 104.2808\n",
      "[epoch 027]  average training loss: 104.1909\n",
      "[epoch 028]  average training loss: 104.0173\n",
      "[epoch 029]  average training loss: 103.9516\n",
      "[epoch 030]  average training loss: 103.8548\n",
      "[epoch 030] average test loss: 103.7046\n",
      "[epoch 031]  average training loss: 103.7442\n",
      "[epoch 032]  average training loss: 103.6545\n",
      "[epoch 033]  average training loss: 103.5762\n",
      "[epoch 034]  average training loss: 103.4610\n",
      "[epoch 035]  average training loss: 103.4197\n",
      "[epoch 035] average test loss: 103.3838\n",
      "[epoch 036]  average training loss: 103.3511\n",
      "[epoch 037]  average training loss: 103.2472\n",
      "[epoch 038]  average training loss: 103.1810\n",
      "[epoch 039]  average training loss: 103.1460\n",
      "[epoch 040]  average training loss: 103.0539\n",
      "[epoch 040] average test loss: 102.9655\n",
      "[epoch 041]  average training loss: 103.0254\n",
      "[epoch 042]  average training loss: 102.9521\n",
      "[epoch 043]  average training loss: 102.8947\n",
      "[epoch 044]  average training loss: 102.8515\n",
      "[epoch 045]  average training loss: 102.7744\n",
      "[epoch 045] average test loss: 102.8347\n",
      "[epoch 046]  average training loss: 102.7367\n",
      "[epoch 047]  average training loss: 102.6872\n",
      "[epoch 048]  average training loss: 102.6245\n",
      "[epoch 049]  average training loss: 102.5551\n",
      "[epoch 050]  average training loss: 102.5601\n",
      "[epoch 050] average test loss: 102.3669\n",
      "[epoch 051]  average training loss: 102.4702\n",
      "[epoch 052]  average training loss: 102.4645\n",
      "[epoch 053]  average training loss: 102.3865\n",
      "[epoch 054]  average training loss: 102.3447\n",
      "[epoch 055]  average training loss: 102.3174\n",
      "[epoch 055] average test loss: 102.4548\n",
      "[epoch 056]  average training loss: 102.2863\n",
      "[epoch 057]  average training loss: 102.2218\n",
      "[epoch 058]  average training loss: 102.1726\n",
      "[epoch 059]  average training loss: 102.1363\n",
      "[epoch 060]  average training loss: 102.1050\n",
      "[epoch 060] average test loss: 102.1752\n",
      "[epoch 061]  average training loss: 102.0528\n",
      "[epoch 062]  average training loss: 102.0141\n",
      "[epoch 063]  average training loss: 102.0016\n",
      "[epoch 064]  average training loss: 101.9334\n",
      "[epoch 065]  average training loss: 101.9371\n",
      "[epoch 065] average test loss: 102.0791\n",
      "[epoch 066]  average training loss: 101.8971\n",
      "[epoch 067]  average training loss: 101.8399\n",
      "[epoch 068]  average training loss: 101.8231\n",
      "[epoch 069]  average training loss: 101.7713\n",
      "[epoch 070]  average training loss: 101.7431\n",
      "[epoch 070] average test loss: 101.8574\n",
      "[epoch 071]  average training loss: 101.7071\n",
      "[epoch 072]  average training loss: 101.6694\n",
      "[epoch 073]  average training loss: 101.6434\n",
      "[epoch 074]  average training loss: 101.5887\n",
      "[epoch 075]  average training loss: 101.5920\n",
      "[epoch 075] average test loss: 101.8327\n",
      "[epoch 076]  average training loss: 101.5334\n",
      "[epoch 077]  average training loss: 101.5290\n",
      "[epoch 078]  average training loss: 101.5107\n",
      "[epoch 079]  average training loss: 101.4701\n",
      "[epoch 080]  average training loss: 101.4085\n",
      "[epoch 080] average test loss: 101.7169\n",
      "[epoch 081]  average training loss: 101.4232\n",
      "[epoch 082]  average training loss: 101.3725\n",
      "[epoch 083]  average training loss: 101.3501\n",
      "[epoch 084]  average training loss: 101.3259\n",
      "[epoch 085]  average training loss: 101.3093\n",
      "[epoch 085] average test loss: 101.4684\n",
      "[epoch 086]  average training loss: 101.2808\n",
      "[epoch 087]  average training loss: 101.2377\n",
      "[epoch 088]  average training loss: 101.2240\n",
      "[epoch 089]  average training loss: 101.2018\n",
      "[epoch 090]  average training loss: 101.1460\n",
      "[epoch 090] average test loss: 101.3296\n",
      "[epoch 091]  average training loss: 101.1594\n",
      "[epoch 092]  average training loss: 101.1094\n",
      "[epoch 093]  average training loss: 101.0659\n",
      "[epoch 094]  average training loss: 101.0668\n",
      "[epoch 095]  average training loss: 101.0154\n",
      "[epoch 095] average test loss: 101.3339\n",
      "[epoch 096]  average training loss: 101.0157\n",
      "[epoch 097]  average training loss: 100.9645\n",
      "[epoch 098]  average training loss: 100.9548\n",
      "[epoch 099]  average training loss: 100.9612\n"
     ]
    }
   ],
   "source": [
    "# Run options\n",
    "LEARNING_RATE = 1.0e-3\n",
    "USE_CUDA = False\n",
    "\n",
    "# Run only for a single iteration for testing\n",
    "NUM_EPOCHS = 100\n",
    "TEST_FREQUENCY = 5\n",
    "\n",
    "train_loader, test_loader = setup_data_loaders(batch_size=256, use_cuda=USE_CUDA)\n",
    "\n",
    "# clear param store\n",
    "pyro.clear_param_store()\n",
    "\n",
    "# setup the VAE\n",
    "vae = VAE(use_cuda=USE_CUDA)\n",
    "\n",
    "# setup the optimizer\n",
    "adam_args = {\"lr\": LEARNING_RATE}\n",
    "optimizer = Adam(adam_args)\n",
    "\n",
    "# setup the inference algorithm\n",
    "svi = SVI(vae.model, vae.guide, optimizer, loss=Trace_ELBO())\n",
    "\n",
    "train_elbo = []\n",
    "test_elbo = []\n",
    "# training loop\n",
    "for epoch in range(NUM_EPOCHS):\n",
    "    total_epoch_loss_train = train(svi, train_loader, use_cuda=USE_CUDA)\n",
    "    train_elbo.append(-total_epoch_loss_train)\n",
    "    print(\"[epoch %03d]  average training loss: %.4f\" % (epoch, total_epoch_loss_train))\n",
    "\n",
    "    if epoch % TEST_FREQUENCY == 0:\n",
    "        # report test diagnostics\n",
    "        total_epoch_loss_test = evaluate(svi, test_loader, use_cuda=USE_CUDA)\n",
    "        test_elbo.append(-total_epoch_loss_test)\n",
    "        print(\"[epoch %03d] average test loss: %.4f\" % (epoch, total_epoch_loss_test))"
   ]
  },
  {
   "cell_type": "code",
   "execution_count": null,
   "metadata": {},
   "outputs": [],
   "source": []
  }
 ],
 "metadata": {
  "kernelspec": {
   "display_name": "Python 3",
   "language": "python",
   "name": "python3"
  },
  "language_info": {
   "codemirror_mode": {
    "name": "ipython",
    "version": 3
   },
   "file_extension": ".py",
   "mimetype": "text/x-python",
   "name": "python",
   "nbconvert_exporter": "python",
   "pygments_lexer": "ipython3",
   "version": "3.7.4"
  }
 },
 "nbformat": 4,
 "nbformat_minor": 2
}
