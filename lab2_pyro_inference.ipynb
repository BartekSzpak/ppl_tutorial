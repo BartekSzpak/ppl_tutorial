{
 "cells": [
  {
   "cell_type": "code",
   "execution_count": 1,
   "metadata": {},
   "outputs": [
    {
     "name": "stdout",
     "output_type": "stream",
     "text": [
      "Requirement already satisfied: pyro-ppl in /export/mlrg/sshekhar/anaconda3/lib/python3.7/site-packages (1.3.1)\n",
      "Requirement already satisfied: opt-einsum>=2.3.2 in /export/mlrg/sshekhar/anaconda3/lib/python3.7/site-packages (from pyro-ppl) (3.1.0)\n",
      "Requirement already satisfied: pyro-api>=0.1.1 in /export/mlrg/sshekhar/anaconda3/lib/python3.7/site-packages (from pyro-ppl) (0.1.2)\n",
      "Requirement already satisfied: tqdm>=4.36 in /export/mlrg/sshekhar/anaconda3/lib/python3.7/site-packages (from pyro-ppl) (4.36.1)\n",
      "Requirement already satisfied: numpy>=1.7 in /export/mlrg/sshekhar/anaconda3/lib/python3.7/site-packages (from pyro-ppl) (1.17.2)\n",
      "Requirement already satisfied: torch>=1.4.0 in /export/mlrg/sshekhar/anaconda3/lib/python3.7/site-packages (from pyro-ppl) (1.5.0+cu101)\n",
      "Requirement already satisfied: future in /export/mlrg/sshekhar/anaconda3/lib/python3.7/site-packages (from torch>=1.4.0->pyro-ppl) (0.17.1)\n"
     ]
    }
   ],
   "source": [
    "!pip install pyro-ppl"
   ]
  },
  {
   "cell_type": "code",
   "execution_count": 21,
   "metadata": {},
   "outputs": [],
   "source": [
    "import os\n",
    "from functools import partial\n",
    "import torch\n",
    "import numpy as np\n",
    "import pandas as pd\n",
    "import seaborn as sns\n",
    "import matplotlib.pyplot as plt"
   ]
  },
  {
   "cell_type": "code",
   "execution_count": 2,
   "metadata": {},
   "outputs": [],
   "source": [
    "import pyro\n",
    "import pyro.infer\n",
    "import pyro.optim\n",
    "import pyro.distributions as dist\n",
    "\n",
    "pyro.set_rng_seed(101)"
   ]
  },
  {
   "cell_type": "markdown",
   "metadata": {},
   "source": [
    "## 1. A simple example"
   ]
  },
  {
   "cell_type": "markdown",
   "metadata": {},
   "source": [
    "Suppose an insurance company is trying to predict the cost in dollars of COVID-19 treatment of a patient. They are able to come up with a rough guess of the cost based on the treatment prescribed utilizing information from prior expenses of other patients. However healthcare varies across provinces and cities so the actual cost for the same treatment is always a slight variation around this guess.\n",
    "\n",
    "Furthermore, the total expenditure also varies slightly across patients with the same treatment because of things like ambulance costs, demand etc.\n",
    "\n",
    "The model is summarized as:\n",
    "\n",
    "**cost | guess ∼ Normal(guess,1)** \n",
    "\n",
    "**expenditure | guess,cost ∼ Normal(cost,0.75)**  \n",
    "\n",
    "Disclaimer: The author (clearly) has zero idea how healthcare works and this example is purely hypothetical!"
   ]
  },
  {
   "cell_type": "code",
   "execution_count": 3,
   "metadata": {},
   "outputs": [],
   "source": [
    "# The model is given by the following stochastic function\n",
    "\n",
    "def scale(guess):\n",
    "    cost = pyro.sample(\"cost\", dist.Normal(guess, 1.0))\n",
    "    return pyro.sample(\"expenditure\", dist.Normal(cost, 0.75))"
   ]
  },
  {
   "cell_type": "markdown",
   "metadata": {},
   "source": [
    "### 1.1 Conditioning using pyro.condition()"
   ]
  },
  {
   "cell_type": "markdown",
   "metadata": {},
   "source": [
    "Condition generative models on observed data & infer latent factors that produced the data\n",
    "\n",
    "**IMPORTANT:** Pyro separates the expression of conditioning from its evaluation via inference, making it possible to write a model once and condition it on many different observations. This abstraction is another key difference between traditional bayesian inference and probabilistic programming."
   ]
  },
  {
   "cell_type": "markdown",
   "metadata": {},
   "source": [
    "```pyro.condition()``` allows to constrain values of sample statements.\n",
    "\n",
    "Input: model, dictionary of observations  \n",
    "Output: new model with same i/p and o/p signatures but using given values in the observe statement"
   ]
  },
  {
   "cell_type": "markdown",
   "metadata": {},
   "source": [
    "Say we want to infer:\n",
    "\n",
    "**cost | guess, expenditure = 11k ~ ?**"
   ]
  },
  {
   "cell_type": "code",
   "execution_count": 4,
   "metadata": {},
   "outputs": [],
   "source": [
    "conditioned_scale = pyro.condition(scale, data={\"expenditure\": 11}) # conditions scale based on observed expenditure of $11k"
   ]
  },
  {
   "cell_type": "markdown",
   "metadata": {},
   "source": [
    "We can defer the condition i.e. pass it as a function parameter (thus adding to the flexibility of our probabilistic program):"
   ]
  },
  {
   "cell_type": "code",
   "execution_count": 5,
   "metadata": {},
   "outputs": [],
   "source": [
    "def deferred_conditioned_scale(expenditure, guess):\n",
    "    return pyro.condition(scale, data={\"expenditure\": expenditure})(guess)"
   ]
  },
  {
   "cell_type": "markdown",
   "metadata": {},
   "source": [
    "Finally, instead of using ```pyro.condition()``` separately it may sometimes be more convenient to use the ```obs``` argument in ```pyro.sample()```"
   ]
  },
  {
   "cell_type": "code",
   "execution_count": 6,
   "metadata": {},
   "outputs": [],
   "source": [
    "def scale_obs(guess):  # equivalent to conditioned_scale above\n",
    "    cost = pyro.sample(\"cost\", dist.Normal(guess, 1.0))\n",
    "     # here we condition on measurement == 11\n",
    "    return pyro.sample(\"expenditure\", dist.Normal(cost, 0.75), obs=11)"
   ]
  },
  {
   "cell_type": "markdown",
   "metadata": {},
   "source": [
    "### 1.2 Guide Functions and pyro.param()"
   ]
  },
  {
   "cell_type": "markdown",
   "metadata": {},
   "source": [
    "We know that computing the exact posterior in Bayesian Inference can be a very hard or in worst case an intractable problem. The power of probabilistic inference derives from approximating the posterior. \n",
    "\n",
    "Guide function = Arbitrary stochastic functions -> serve as approximate posterior\n",
    "\n",
    "**CONDITIONS FOR GUIDE**\n",
    "\n",
    "- All unobserved (i.e. not conditioned) sample statements that appear in the model appear in the guide\n",
    "- The guide has the same input structure as the model\n",
    "\n",
    "Guide functions are:\n",
    "\n",
    "- **Proposal distribution** for sampling-based inference mechanisms i.e. importance sampling, rejection sampling, Sequential Monte Carlo, MCMC etc\n",
    "- **Variational distribution** for variational inference mechanisms i.e. SVI, Amortized VI etc \n",
    "\n",
    "The conditions hold for both types of guides in Pyro to streamline the inference process and reduce the dependence on the inference mechanism used."
   ]
  },
  {
   "cell_type": "markdown",
   "metadata": {},
   "source": [
    "We parameterize the guide function using ```pyro.param()```. Technically there can be guide functions where we can analytically solve and fix the posterior but they are usually for special and simpler models (e.g. conjugate priors)"
   ]
  },
  {
   "cell_type": "code",
   "execution_count": 7,
   "metadata": {},
   "outputs": [],
   "source": [
    "def scale_parametrized_guide(guess):\n",
    "    a = pyro.param(\"a\", torch.tensor(guess))\n",
    "    b = pyro.param(\"b\", torch.tensor(1.))\n",
    "    return pyro.sample(\"cost\", dist.Normal(a, torch.abs(b))) \n",
    "\n",
    "# Note that the guide does not have the same returned values as the original model. \n",
    "# We just sample for the variables that we will infer in the guide"
   ]
  },
  {
   "cell_type": "markdown",
   "metadata": {},
   "source": [
    "Additionaly ```constrainsts``` can be used to set constraints on the values a parameter can take. For example we can replace torch.abs() we used above with a constraint that the standard deviation of a normal distribution is always positive"
   ]
  },
  {
   "cell_type": "code",
   "execution_count": 8,
   "metadata": {},
   "outputs": [],
   "source": [
    "from torch.distributions import constraints\n",
    "\n",
    "def scale_parametrized_guide_constrained(guess):\n",
    "    a = pyro.param(\"a\", torch.tensor(guess))\n",
    "    b = pyro.param(\"b\", torch.tensor(1.), constraint=constraints.positive)\n",
    "    return pyro.sample(\"cost\", dist.Normal(a, b))"
   ]
  },
  {
   "cell_type": "markdown",
   "metadata": {},
   "source": [
    "### 1.3 Inference"
   ]
  },
  {
   "cell_type": "markdown",
   "metadata": {},
   "source": [
    "Exact mechanisms are discussed later. We pass the model, guide, a Pytorch optimizer and loss function to the SVI engine of Pyro and obtain our parameters a and b for now"
   ]
  },
  {
   "cell_type": "code",
   "execution_count": 12,
   "metadata": {},
   "outputs": [],
   "source": [
    "guess = 9. # suppose the insurance firm guessed a cost of $9k and the actual expenditure was $11k (from before)\n",
    "\n",
    "pyro.clear_param_store()\n",
    "svi = pyro.infer.SVI(model=conditioned_scale,\n",
    "                     guide=scale_parametrized_guide_constrained,\n",
    "                     optim=pyro.optim.SGD({\"lr\": 0.001, \"momentum\":0.1}),\n",
    "                     loss=pyro.infer.Trace_ELBO())\n",
    "\n",
    "\n",
    "losses, a,b  = [], [], []\n",
    "num_steps = 2500\n",
    "\n",
    "for t in range(num_steps):\n",
    "    losses.append(svi.step(guess))\n",
    "    a.append(pyro.param(\"a\").item())\n",
    "    b.append(pyro.param(\"b\").item())"
   ]
  },
  {
   "cell_type": "code",
   "execution_count": 20,
   "metadata": {},
   "outputs": [
    {
     "name": "stdout",
     "output_type": "stream",
     "text": [
      "a =  10.330216407775879\n",
      "b =  0.6035094857215881\n"
     ]
    },
    {
     "data": {
      "image/png": "[encoded data removed]",
      "text/plain": [
       "<Figure size 800x400 with 3 Axes>"
      ]
     },
     "metadata": {
      "needs_background": "light"
     },
     "output_type": "display_data"
    }
   ],
   "source": [
    "fig=plt.figure(figsize=(10, 5), dpi= 80)\n",
    "\n",
    "plt.subplot(1,3,1)\n",
    "plt.plot(losses)\n",
    "plt.title(\"ELBO\")\n",
    "plt.xlabel(\"step\")\n",
    "plt.ylabel(\"loss\");\n",
    "print('a = ',pyro.param(\"a\").item())\n",
    "print('b = ', pyro.param(\"b\").item())\n",
    "plt.tight_layout()\n",
    "\n",
    "plt.subplot(1,3,2)\n",
    "plt.plot([0,num_steps],[9.14,9.14], 'k:')\n",
    "plt.plot(a)\n",
    "plt.ylabel('a')\n",
    "plt.tight_layout()\n",
    "\n",
    "plt.subplot(1,3,3)\n",
    "plt.ylabel('b')\n",
    "plt.plot([0,num_steps],[0.6,0.6], 'k:')\n",
    "plt.plot(b)\n",
    "plt.tight_layout()"
   ]
  },
  {
   "cell_type": "markdown",
   "metadata": {},
   "source": [
    "It can be shown that analytically obtained a and b are:\n",
    "\n",
    "a = (0.75^2 * guess + 11)/ (1 + 0.75^2) = 10.28  \n",
    "b = sqrt(0.75^2/(1 + 0.75^2)) = 0.6\n",
    "\n",
    "SVI obtains parameters which are are very close (model, guide are from same family here so it works better)"
   ]
  },
  {
   "cell_type": "markdown",
   "metadata": {},
   "source": [
    "## 2. A (slightly) larger example: Bayesian Regression"
   ]
  },
  {
   "cell_type": "code",
   "execution_count": 22,
   "metadata": {},
   "outputs": [
    {
     "data": {
      "image/png": "[encoded data removed]",
      "text/plain": [
       "<Figure size 864x432 with 2 Axes>"
      ]
     },
     "metadata": {
      "needs_background": "light"
     },
     "output_type": "display_data"
    }
   ],
   "source": [
    "DATA_URL = \"https://d2hg8soec8ck9v.cloudfront.net/datasets/rugged_data.csv\"\n",
    "data = pd.read_csv(DATA_URL, encoding=\"ISO-8859-1\")\n",
    "df = data[[\"cont_africa\", \"rugged\", \"rgdppc_2000\"]]\n",
    "df = df[np.isfinite(df.rgdppc_2000)]\n",
    "df[\"rgdppc_2000\"] = np.log(df[\"rgdppc_2000\"])\n",
    "\n",
    "fig, ax = plt.subplots(nrows=1, ncols=2, figsize=(12, 6), sharey=True)\n",
    "african_nations = df[df[\"cont_africa\"] == 1]\n",
    "non_african_nations = df[df[\"cont_africa\"] == 0]\n",
    "sns.scatterplot(non_african_nations[\"rugged\"],\n",
    "            non_african_nations[\"rgdppc_2000\"],\n",
    "            ax=ax[0])\n",
    "ax[0].set(xlabel=\"Terrain Ruggedness Index\",\n",
    "          ylabel=\"log GDP (2000)\",\n",
    "          title=\"Non African Nations\")\n",
    "sns.scatterplot(african_nations[\"rugged\"],\n",
    "                african_nations[\"rgdppc_2000\"],\n",
    "                ax=ax[1])\n",
    "ax[1].set(xlabel=\"Terrain Ruggedness Index\",\n",
    "          ylabel=\"log GDP (2000)\",\n",
    "          title=\"African Nations\");"
   ]
  },
  {
   "cell_type": "code",
   "execution_count": null,
   "metadata": {},
   "outputs": [],
   "source": [
    "# TODO"
   ]
  }
 ],
 "metadata": {
  "kernelspec": {
   "display_name": "Python 3",
   "language": "python",
   "name": "python3"
  },
  "language_info": {
   "codemirror_mode": {
    "name": "ipython",
    "version": 3
   },
   "file_extension": ".py",
   "mimetype": "text/x-python",
   "name": "python",
   "nbconvert_exporter": "python",
   "pygments_lexer": "ipython3",
   "version": "3.7.4"
  }
 },
 "nbformat": 4,
 "nbformat_minor": 2
}
