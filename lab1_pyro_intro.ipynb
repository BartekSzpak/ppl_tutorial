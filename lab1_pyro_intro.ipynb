{
 "cells": [
  {
   "cell_type": "code",
   "execution_count": 1,
   "metadata": {},
   "outputs": [
    {
     "name": "stdout",
     "output_type": "stream",
     "text": [
      "Requirement already satisfied: pyro-ppl in /export/mlrg/sshekhar/anaconda3/lib/python3.7/site-packages (1.3.1)\n",
      "Requirement already satisfied: numpy>=1.7 in /export/mlrg/sshekhar/anaconda3/lib/python3.7/site-packages (from pyro-ppl) (1.17.2)\n",
      "Requirement already satisfied: torch>=1.4.0 in /export/mlrg/sshekhar/anaconda3/lib/python3.7/site-packages (from pyro-ppl) (1.5.0+cu101)\n",
      "Requirement already satisfied: tqdm>=4.36 in /export/mlrg/sshekhar/anaconda3/lib/python3.7/site-packages (from pyro-ppl) (4.36.1)\n",
      "Requirement already satisfied: pyro-api>=0.1.1 in /export/mlrg/sshekhar/anaconda3/lib/python3.7/site-packages (from pyro-ppl) (0.1.2)\n",
      "Requirement already satisfied: opt-einsum>=2.3.2 in /export/mlrg/sshekhar/anaconda3/lib/python3.7/site-packages (from pyro-ppl) (3.1.0)\n",
      "Requirement already satisfied: future in /export/mlrg/sshekhar/anaconda3/lib/python3.7/site-packages (from torch>=1.4.0->pyro-ppl) (0.17.1)\n"
     ]
    }
   ],
   "source": [
    "!pip install pyro-ppl"
   ]
  },
  {
   "cell_type": "code",
   "execution_count": 2,
   "metadata": {},
   "outputs": [],
   "source": [
    "import torch \n",
    "import pyro"
   ]
  },
  {
   "attachments": {},
   "cell_type": "markdown",
   "metadata": {},
   "source": [
    "![A probabilistic program](https://github.com/sshkhr/ppl_tutorial/blob/master/images/prob_prog.png?raw=true)"
   ]
  },
  {
   "cell_type": "markdown",
   "metadata": {},
   "source": [
    "# Stochastic Functions"
   ]
  },
  {
   "cell_type": "markdown",
   "metadata": {},
   "source": [
    "* Basic units of probabilistic programs\n",
    "\n",
    "Made up of two parts:"
   ]
  },
  {
   "attachments": {},
   "cell_type": "markdown",
   "metadata": {},
   "source": [
    "![A stochastic function](https://github.com/sshkhr/ppl_tutorial/blob/master/images/stochastic_functions.png?raw=true)"
   ]
  },
  {
   "cell_type": "code",
   "execution_count": 3,
   "metadata": {},
   "outputs": [
    {
     "name": "stdout",
     "output_type": "stream",
     "text": [
      "sample:  tensor(0.4904)\n",
      "log probability:  tensor(1.2563)\n"
     ]
    }
   ],
   "source": [
    "# A primitive stochastic function in Pytorch\n",
    "\n",
    "beta = torch.distributions.Beta(10.,10.) # create a Beta distribution object\n",
    "x = beta.rsample() # draw a sample\n",
    "\n",
    "print(\"sample: \",x)\n",
    "print(\"log probability: \", beta.log_prob(x)) #score sample from Beta(10,10)"
   ]
  },
  {
   "cell_type": "markdown",
   "metadata": {},
   "source": [
    "### So what's different in Pyro?"
   ]
  },
  {
   "cell_type": "markdown",
   "metadata": {},
   "source": [
    "Make following replacements:\n",
    "\n",
    "- Replace **torch.distributions** with **pyro.distributions** (thin wrapper which enables naming of samples)\n",
    "- Replace **.sample() or .rsample()** with **pyro.sample**\n",
    "\n",
    "Pyro's sample method comes with many bells and whistles suited for running inferences (covered later)"
   ]
  },
  {
   "cell_type": "code",
   "execution_count": 4,
   "metadata": {},
   "outputs": [
    {
     "name": "stdout",
     "output_type": "stream",
     "text": [
      "sample:  tensor(0.6750)\n"
     ]
    }
   ],
   "source": [
    "x = pyro.sample(\"pyro_beta_sample\", pyro.distributions.Beta(10., 10.))\n",
    "print(\"sample: \",x)"
   ]
  },
  {
   "cell_type": "markdown",
   "metadata": {},
   "source": [
    "### A stochastic function example"
   ]
  },
  {
   "cell_type": "markdown",
   "metadata": {},
   "source": [
    "Let's write a function to sample whether a person is a senior citizen and the risk to their life on getting COVID-19 in Canada.   \n",
    "\n",
    "- Age data take from here: https://www150.statcan.gc.ca/n1/pub/91-215-x/2014000/part-partie2-eng.htm \n",
    "- COVID-19 data taken from here: https://health-infobase.canada.ca/covid-19/epidemiological-summary-covid-19-cases.html"
   ]
  },
  {
   "cell_type": "code",
   "execution_count": 5,
   "metadata": {},
   "outputs": [],
   "source": [
    "def at_risk():\n",
    "    \n",
    "    senior = pyro.sample('senior', pyro.distributions.Bernoulli(0.15)) # chance of being a senior citizen\n",
    "    senior = 'senior' if senior.item() == 1.0 else 'not_senior'\n",
    "    \n",
    "    mean_risk = {'senior': 50.0, 'not_senior': 5.0}[senior] # on a scale of 100\n",
    "    scale_risk = {'senior': 1.0, 'not_senior': 1.0}[senior]\n",
    "    \n",
    "    risk = pyro.sample('risk', pyro.distributions.Normal(mean_risk, scale_risk))\n",
    "    \n",
    "    return senior, risk"
   ]
  },
  {
   "cell_type": "code",
   "execution_count": 6,
   "metadata": {},
   "outputs": [
    {
     "name": "stdout",
     "output_type": "stream",
     "text": [
      "('not_senior', tensor(4.4498))\n",
      "('senior', tensor(50.8141))\n",
      "('not_senior', tensor(4.2446))\n",
      "('not_senior', tensor(3.8529))\n",
      "('not_senior', tensor(4.2646))\n"
     ]
    }
   ],
   "source": [
    "# Let's check our samples\n",
    "\n",
    "for _ in range(5):\n",
    "    print(at_risk())"
   ]
  },
  {
   "cell_type": "markdown",
   "metadata": {},
   "source": [
    "at_risk() thus defines a join probability distribution between two random variables: the categorical r.v senior and the continuous r.v. risk"
   ]
  },
  {
   "cell_type": "markdown",
   "metadata": {},
   "source": [
    "## From stochastic functions to probabilistic programs"
   ]
  },
  {
   "cell_type": "markdown",
   "metadata": {},
   "source": [
    "### Modularity "
   ]
  },
  {
   "cell_type": "code",
   "execution_count": 7,
   "metadata": {},
   "outputs": [],
   "source": [
    "def action_on_symptoms(num_days):\n",
    "    senior, risk = at_risk()\n",
    "    \n",
    "    if senior == 'senior' and risk > 50:\n",
    "        return senior, 'check-in'\n",
    "    elif senior != 'senior' and num_days < 14:\n",
    "        return senior, 'self-isolate'\n",
    "    else:\n",
    "        return senior, 'inform_authorities'"
   ]
  },
  {
   "cell_type": "code",
   "execution_count": 8,
   "metadata": {},
   "outputs": [
    {
     "name": "stdout",
     "output_type": "stream",
     "text": [
      "0 ('senior', 'check-in')\n",
      "1 ('not_senior', 'self-isolate')\n",
      "2 ('not_senior', 'self-isolate')\n",
      "3 ('not_senior', 'self-isolate')\n",
      "4 ('not_senior', 'self-isolate')\n",
      "5 ('senior', 'check-in')\n",
      "6 ('not_senior', 'self-isolate')\n",
      "7 ('not_senior', 'self-isolate')\n",
      "8 ('not_senior', 'self-isolate')\n",
      "9 ('not_senior', 'self-isolate')\n",
      "10 ('not_senior', 'self-isolate')\n",
      "11 ('not_senior', 'self-isolate')\n",
      "12 ('not_senior', 'self-isolate')\n",
      "13 ('not_senior', 'self-isolate')\n",
      "14 ('not_senior', 'inform_authorities')\n",
      "15 ('not_senior', 'inform_authorities')\n",
      "16 ('senior', 'check-in')\n",
      "17 ('not_senior', 'inform_authorities')\n",
      "18 ('not_senior', 'inform_authorities')\n",
      "19 ('not_senior', 'inform_authorities')\n"
     ]
    }
   ],
   "source": [
    "for i in range(20):\n",
    "    print(i, action_on_symptoms(i))"
   ]
  },
  {
   "cell_type": "markdown",
   "metadata": {},
   "source": [
    "### Random control flow (demonstrated above)"
   ]
  },
  {
   "cell_type": "markdown",
   "metadata": {},
   "source": [
    "### Higher order stochastic functions"
   ]
  },
  {
   "cell_type": "markdown",
   "metadata": {},
   "source": [
    "Inputs and/or Outputs are other stochastic functions"
   ]
  },
  {
   "cell_type": "code",
   "execution_count": 9,
   "metadata": {},
   "outputs": [],
   "source": [
    "def expected_hospitalization_duration(loc, scale):\n",
    "    # Samples expected hospitalization from a normal of given mean and variance\n",
    "    avg_hospitalization = pyro.sample(\"avg_time\", pyro.distributions.Normal(loc, scale))\n",
    "    return avg_hospitalization\n",
    "\n",
    "def get_duration(risk_function): # takes as input the risk function \n",
    "    senior, risk = risk_function()\n",
    "    print(risk)\n",
    "    \n",
    "    # fn is a python function which takes as input mean, adds the risk to it to get mean for the particular person\n",
    "    # and then samples expected hospitalization from the function above\n",
    "    fn = lambda mean: expected_hospitalization_duration(risk+mean, 1.)\n",
    "    return fn"
   ]
  },
  {
   "cell_type": "code",
   "execution_count": 10,
   "metadata": {},
   "outputs": [
    {
     "name": "stdout",
     "output_type": "stream",
     "text": [
      "tensor(3.3920)\n",
      "tensor(11.8838)\n"
     ]
    }
   ],
   "source": [
    "print(get_duration(at_risk)(10.))"
   ]
  },
  {
   "cell_type": "markdown",
   "metadata": {},
   "source": [
    "Iteration/Recursion/Higher-order functions/Random control flow: Pyro stochastic functions are universal can be used to represent any probability distribution"
   ]
  }
 ],
 "metadata": {
  "kernelspec": {
   "display_name": "Python 3",
   "language": "python",
   "name": "python3"
  },
  "language_info": {
   "codemirror_mode": {
    "name": "ipython",
    "version": 3
   },
   "file_extension": ".py",
   "mimetype": "text/x-python",
   "name": "python",
   "nbconvert_exporter": "python",
   "pygments_lexer": "ipython3",
   "version": "3.7.4"
  }
 },
 "nbformat": 4,
 "nbformat_minor": 2
}
